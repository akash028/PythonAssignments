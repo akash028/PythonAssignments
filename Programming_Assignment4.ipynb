{
 "cells": [
  {
   "cell_type": "markdown",
   "metadata": {},
   "source": [
    "1.\tWrite a Python Program to Find the Factorial of a Number?"
   ]
  },
  {
   "cell_type": "code",
   "execution_count": 4,
   "metadata": {},
   "outputs": [
    {
     "name": "stdout",
     "output_type": "stream",
     "text": [
      "Please enter integer number: 5\n",
      "120\n"
     ]
    }
   ],
   "source": [
    "n = int(input('Please enter integer number: '))\n",
    "ans = 1\n",
    "for i in range(1, n+1):\n",
    "    ans = ans * i\n",
    "print(ans)"
   ]
  },
  {
   "cell_type": "markdown",
   "metadata": {},
   "source": [
    "2.\tWrite a Python Program to Display the multiplication Table?"
   ]
  },
  {
   "cell_type": "code",
   "execution_count": 6,
   "metadata": {},
   "outputs": [
    {
     "name": "stdout",
     "output_type": "stream",
     "text": [
      "Please enter number whose table needs to be displayed: 10\n",
      "10\n",
      "20\n",
      "30\n",
      "40\n",
      "50\n",
      "60\n",
      "70\n",
      "80\n",
      "90\n",
      "100\n"
     ]
    }
   ],
   "source": [
    "n = int(input('Please enter number whose table needs to be displayed: '))\n",
    "for i in range(1, 11):\n",
    "    print(n*i)"
   ]
  },
  {
   "cell_type": "markdown",
   "metadata": {},
   "source": [
    "3.\tWrite a Python Program to Print the Fibonacci sequence?"
   ]
  },
  {
   "cell_type": "code",
   "execution_count": 8,
   "metadata": {},
   "outputs": [
    {
     "name": "stdout",
     "output_type": "stream",
     "text": [
      "Please enter seq length: 10\n",
      "0\n",
      "1\n",
      "1\n",
      "2\n",
      "3\n",
      "5\n",
      "8\n",
      "13\n",
      "21\n",
      "34\n"
     ]
    }
   ],
   "source": [
    "n = int(input('Please enter seq length: '))\n",
    "a = 0\n",
    "b = 1\n",
    "if n == 0:\n",
    "    print(0)\n",
    "elif n == 1:\n",
    "    print(1)\n",
    "else:\n",
    "    for i in range(0, n):\n",
    "        if i == 0:\n",
    "            print(0)\n",
    "        elif i == 1:\n",
    "            print(1)\n",
    "        else:\n",
    "            c = a + b\n",
    "            print(c)\n",
    "            a = b\n",
    "            b = c\n",
    "    \n",
    "    "
   ]
  },
  {
   "cell_type": "markdown",
   "metadata": {},
   "source": [
    "4.\tWrite a Python Program to Check Armstrong Number?"
   ]
  },
  {
   "cell_type": "code",
   "execution_count": 11,
   "metadata": {},
   "outputs": [
    {
     "name": "stdout",
     "output_type": "stream",
     "text": [
      "Please enter integer number: 153\n",
      "This is an Armstrong number\n"
     ]
    }
   ],
   "source": [
    "n = int(input('Please enter integer number: '))\n",
    "b = str(n)\n",
    "sum = 0\n",
    "for i in range(len(b)):\n",
    "    mul = int(b[i])*int(b[i])*int(b[i])\n",
    "    sum = sum + mul\n",
    "    \n",
    "if sum == n:\n",
    "    print('This is an Armstrong number')\n",
    "else:\n",
    "    print('This is not an Armstrong number')"
   ]
  },
  {
   "cell_type": "markdown",
   "metadata": {},
   "source": [
    "5.\tWrite a Python Program to Find Armstrong Number in an Interval?"
   ]
  },
  {
   "cell_type": "code",
   "execution_count": 13,
   "metadata": {},
   "outputs": [
    {
     "name": "stdout",
     "output_type": "stream",
     "text": [
      "Please enter starting range: 10\n",
      "Please enter ending range: 2000\n",
      "153\n",
      "370\n",
      "371\n",
      "407\n"
     ]
    }
   ],
   "source": [
    "sum = 0\n",
    "r1 = int(input('Please enter starting range: '))\n",
    "r2 = int(input('Please enter ending range: '))\n",
    "for j in range(r1, r2):\n",
    "    sum = 0\n",
    "    b = str(j)\n",
    "    for i in range(len(b)):\n",
    "        mul = int(b[i])*int(b[i])*int(b[i])\n",
    "        sum = sum + mul\n",
    "    if sum == j:\n",
    "        print(j)"
   ]
  },
  {
   "cell_type": "markdown",
   "metadata": {},
   "source": [
    "6.\tWrite a Python Program to Find the Sum of Natural Numbers?"
   ]
  },
  {
   "cell_type": "code",
   "execution_count": 15,
   "metadata": {},
   "outputs": [
    {
     "name": "stdout",
     "output_type": "stream",
     "text": [
      "Please enter count of natural numbers: 5\n",
      "Sum of  5 natural numbers is:  10\n"
     ]
    }
   ],
   "source": [
    "n = int(input('Please enter count of natural numbers: '))\n",
    "sum = 0\n",
    "for i in range(1, n):\n",
    "    sum = sum + i\n",
    "\n",
    "print('Sum of ', n,'natural numbers is: ', sum)\n"
   ]
  },
  {
   "cell_type": "code",
   "execution_count": null,
   "metadata": {},
   "outputs": [],
   "source": []
  }
 ],
 "metadata": {
  "kernelspec": {
   "display_name": "Python 3",
   "language": "python",
   "name": "python3"
  },
  "language_info": {
   "codemirror_mode": {
    "name": "ipython",
    "version": 3
   },
   "file_extension": ".py",
   "mimetype": "text/x-python",
   "name": "python",
   "nbconvert_exporter": "python",
   "pygments_lexer": "ipython3",
   "version": "3.8.3"
  }
 },
 "nbformat": 4,
 "nbformat_minor": 4
}
